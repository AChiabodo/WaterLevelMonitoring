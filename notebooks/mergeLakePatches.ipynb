{
 "cells": [
  {
   "cell_type": "code",
   "execution_count": 1,
   "metadata": {},
   "outputs": [],
   "source": [
    "import xarray as xr\n",
    "import os\n",
    "import rioxarray\n",
    "from rioxarray.merge import merge_arrays\n",
    "NDWI = '''..\\\\data\\\\NDWI_Annual_256_instance\\\\data'''\n",
    "LAKE = \"lake_mead_4\""
   ]
  },
  {
   "cell_type": "code",
   "execution_count": 6,
   "metadata": {},
   "outputs": [
    {
     "name": "stdout",
     "output_type": "stream",
     "text": [
      "..\\data\\NDWI_Annual_256_instance\\data\\lake_balkhash_2\\tiles has not 4 timestamps!!\n",
      "..\\data\\NDWI_Annual_256_instance\\data\\lake_winnipeg_1\\tiles has not 4 timestamps!!\n"
     ]
    }
   ],
   "source": [
    "for dir in os.listdir(NDWI):\n",
    "    dir = os.path.join(NDWI, dir, \"tiles\")\n",
    "    if not os.path.isdir(dir):\n",
    "        print(f\"Skipping {dir}\")\n",
    "        continue\n",
    "    for file in os.listdir(dir):\n",
    "        file = os.path.join(dir, file, \"features.nc\")\n",
    "        patch = xr.open_dataarray(file,decode_coords=\"all\")\n",
    "        if patch.shape[0] != 4:\n",
    "            print(f\"{dir} has not 4 timestamps!!\")\n",
    "            break"
   ]
  },
  {
   "cell_type": "code",
   "execution_count": null,
   "metadata": {},
   "outputs": [],
   "source": [
    "start_features = []\n",
    "end_features = []\n",
    "mask = []\n",
    "PATH = os.path.join(NDWI,LAKE)\n",
    "for dir in os.listdir((os.path.join(PATH,\"tiles\"))):\n",
    "    if os.path.isdir(os.path.join(PATH,\"tiles\",dir)):\n",
    "        temp_start_features = xr.open_dataarray(os.path.join(PATH,\"tiles\",dir,\"features.nc\"),decode_coords=\"all\")[0]\n",
    "        temp_end_features = xr.open_dataarray(os.path.join(PATH,\"tiles\",dir,\"features.nc\"),decode_coords=\"all\")[3]\n",
    "        temp_mask= xr.open_dataset (os.path.join(PATH,\"tiles\",dir,\"mask.nc\"),decode_coords=\"all\")[\"water_change\"]\n",
    "        temp_start_features.rio.write_crs(4326, inplace=True)\n",
    "        temp_mask.rio.write_crs(4326, inplace=True)\n",
    "        temp_end_features.rio.write_crs(4326, inplace=True)\n",
    "        start_features.append(temp_start_features)\n",
    "        mask.append(temp_mask)\n",
    "        end_features.append(temp_end_features)\n",
    "print(\"Merging data ...\")\n",
    "start_features = merge_arrays(start_features)\n",
    "end_features = merge_arrays(end_features)\n",
    "print(\"Merging mask ...\")\n",
    "mask = merge_arrays(mask)"
   ]
  },
  {
   "cell_type": "code",
   "execution_count": null,
   "metadata": {},
   "outputs": [],
   "source": [
    "start_features.plot.imshow(vmax=1,vmin=-1)"
   ]
  },
  {
   "cell_type": "code",
   "execution_count": null,
   "metadata": {},
   "outputs": [],
   "source": [
    "end_features.plot.imshow(vmax=1,vmin=-1)"
   ]
  },
  {
   "cell_type": "code",
   "execution_count": null,
   "metadata": {},
   "outputs": [],
   "source": [
    "mask.plot.imshow(vmax=1,vmin=-1, cmap=\"cividis\")"
   ]
  },
  {
   "cell_type": "code",
   "execution_count": null,
   "metadata": {},
   "outputs": [],
   "source": [
    "difference = end_features - start_features"
   ]
  },
  {
   "cell_type": "code",
   "execution_count": null,
   "metadata": {},
   "outputs": [],
   "source": [
    "difference.plot.imshow(vmax=1,vmin=-1, cmap=\"cividis\")"
   ]
  },
  {
   "cell_type": "code",
   "execution_count": null,
   "metadata": {},
   "outputs": [],
   "source": [
    "import matplotlib.pyplot as plt\n",
    "plt.imshow(difference.values, cmap=\"cividis\",aspect=\"auto\",vmin=-1,vmax=1)\n",
    "plt.imshow(mask.values, cmap=\"RdGy\", alpha=0.5, aspect=\"auto\")\n",
    "plt.show()"
   ]
  },
  {
   "cell_type": "code",
   "execution_count": null,
   "metadata": {},
   "outputs": [],
   "source": [
    "water_start = xr.where(start_features > 0.0,1,0)\n",
    "water_end = xr.where(end_features > 0.0,1,0)\n",
    "water_change = water_end - water_start"
   ]
  },
  {
   "cell_type": "code",
   "execution_count": null,
   "metadata": {},
   "outputs": [],
   "source": [
    "water_change.plot.imshow(vmax=1,vmin=-1, cmap=\"cividis\")"
   ]
  }
 ],
 "metadata": {
  "kernelspec": {
   "display_name": "Python 3",
   "language": "python",
   "name": "python3"
  },
  "language_info": {
   "codemirror_mode": {
    "name": "ipython",
    "version": 3
   },
   "file_extension": ".py",
   "mimetype": "text/x-python",
   "name": "python",
   "nbconvert_exporter": "python",
   "pygments_lexer": "ipython3",
   "version": "3.10.14"
  }
 },
 "nbformat": 4,
 "nbformat_minor": 2
}
